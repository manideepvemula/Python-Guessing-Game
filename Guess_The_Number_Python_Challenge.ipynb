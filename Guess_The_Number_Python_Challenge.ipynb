{
 "cells": [
  {
   "cell_type": "code",
   "execution_count": 4,
   "metadata": {},
   "outputs": [
    {
     "name": "stdout",
     "output_type": "stream",
     "text": [
      "Guess the number (between 1 and 100)40\n",
      "Too high!\n",
      "Guess the number (between 1 and 100)25\n",
      "Too high!\n",
      "Guess the number (between 1 and 100)20\n",
      "Too low!\n",
      "Guess the number (between 1 and 100)22\n",
      "Too high!\n",
      "Guess the number (between 1 and 100)21\n",
      "Good guess, the number to guess was 21 indeed.\n"
     ]
    }
   ],
   "source": [
    "import random\n",
    "\n",
    "#Generate a Random Number between 0 and 100 and store it as 'numberToguess'\n",
    "numberToGuess=random.randint(0,100)\n",
    " \n",
    "userGuess=-1\n",
    " \n",
    "while userGuess!=numberToGuess:\n",
    "    #Get the user to enter a number using the 'input' function and convert in to an Integer suing the 'int' function\n",
    "    userGuess=int(input(\"Guess the number (between 1 and 100)\"))\n",
    "    \n",
    "    #Compare this number, userGuess, with the numberToGuess - Display the right message if the userGuess is greater than, lower than or equal to the numberToGuess\n",
    "    if userGuess>numberToGuess:\n",
    "        print(\"Too high!\")\n",
    "    elif userGuess<numberToGuess:\n",
    "        print(\"Too low!\")\n",
    "    elif userGuess==numberToGuess:\n",
    "        print(\"Good guess, the number to guess was \" + str(numberToGuess) + \" indeed.\")\n",
    "        #End of game - exit the while loop\n",
    "        break"
   ]
  },
  {
   "cell_type": "code",
   "execution_count": null,
   "metadata": {},
   "outputs": [],
   "source": []
  }
 ],
 "metadata": {
  "kernelspec": {
   "display_name": "Python 3",
   "language": "python",
   "name": "python3"
  },
  "language_info": {
   "codemirror_mode": {
    "name": "ipython",
    "version": 3
   },
   "file_extension": ".py",
   "mimetype": "text/x-python",
   "name": "python",
   "nbconvert_exporter": "python",
   "pygments_lexer": "ipython3",
   "version": "3.7.1"
  }
 },
 "nbformat": 4,
 "nbformat_minor": 2
}
